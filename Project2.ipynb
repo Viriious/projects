{
 "cells": [
  {
   "cell_type": "code",
   "execution_count": 567,
   "id": "b7b74822-4417-4168-a5de-b70d5dc570c0",
   "metadata": {},
   "outputs": [
    {
     "name": "stdin",
     "output_type": "stream",
     "text": [
      "date :  2025-03-01\n",
      "amount:  12\n",
      "category:  Groceries\n",
      "description:  Milk and Veggies\n",
      "date :  2025-03-05\n",
      "amount:  45\n",
      "category:  Utilities\n",
      "description:  Electric Bill\n"
     ]
    },
    {
     "name": "stdout",
     "output_type": "stream",
     "text": [
      "\n",
      "| ID | Date       | Amount | Category    | Description              |\n",
      "|----|------------|--------|-------------|--------------------------|\n",
      "| 1  | 2025-03-01 | $ 12.0 | Groceries   | Milk and Veggies         |\n",
      "| 2  | 2025-03-05 | $ 45.0 | Utilities   | Electric Bill            |\n"
     ]
    },
    {
     "name": "stdin",
     "output_type": "stream",
     "text": [
      "date :  2025-03-01\n",
      "amount:  20\n",
      "category:  Groceries\n",
      "description:  Steak\n"
     ]
    },
    {
     "name": "stdout",
     "output_type": "stream",
     "text": [
      "\n",
      "| ID | Date       | Amount | Category    | Description              |\n",
      "|----|------------|--------|-------------|--------------------------|\n",
      "| 1  | 2025-03-01 | $ 15.0 | Groceries   | Milk and Veggies         |\n",
      "| 3  | 2025-03-01 | $ 20.0 | Groceries   | Steak                    |\n",
      "\n",
      "| Category   | Total Spent |\n",
      "|------------|-------------|\n",
      "| Groceries  | $35.0      |\n",
      "| **Total**  | **$35.0**  |\n"
     ]
    }
   ],
   "source": [
    "class exp(object):\n",
    "    def __init__(self):\n",
    "        self.expenses = {}\n",
    "        self.id = 1\n",
    "        \n",
    "    def add(self):\n",
    "        date = input(\"date : \")\n",
    "        amt = input(\"amount: \")\n",
    "        cat = input(\"category: \")\n",
    "        desc = input(\"description: \")\n",
    "        self.expenses[self.id] = {'date': date, 'amount': float(amt), 'category': cat, 'description': desc}\n",
    "        self.id+=1\n",
    "        \n",
    "    def view_expense(self):\n",
    "        print(\"\\n| ID | Date       | Amount | Category    | Description              |\")\n",
    "        print(\"|----|------------|--------|-------------|--------------------------|\")\n",
    "        for id in self.expenses:\n",
    "            e = self.expenses[id]\n",
    "            print(f\"|{id:2}  | {e['date']:10} | ${e['amount']:5} | {e['category']:11} | {e['description']:24} |\")\n",
    "    \n",
    "    def edit_expense(self,id,date,amount,category,description):\n",
    "        e = self.expenses[id]\n",
    "        if date:\n",
    "            e['date'] = date\n",
    "        if amount:\n",
    "            e['amount'] = float(amount)\n",
    "        if category:\n",
    "            e['category'] = category\n",
    "        if description:\n",
    "            e['description'] = description\n",
    "    \n",
    "    def delete_expense(self,id):\n",
    "        if id in self.expenses:\n",
    "            self.expenses.pop(id)\n",
    "            \n",
    "    def generate_summary(self, date):\n",
    "        L = []  \n",
    "        total=0.00\n",
    "        for id in self.expenses:\n",
    "            e = self.expenses[id]\n",
    "            if e['date'] == date:\n",
    "                amt = e['amount']\n",
    "                L.append(amt)  \n",
    "                total += amt\n",
    "        print(\"\\n| Category   | Total Spent |\")\n",
    "        print(\"|------------|-------------|\")\n",
    "        print(f\"| {e['category']:10} | ${total}      |\")\n",
    "        print(f\"| **Total**  | **${total}**  |\")\n",
    "        \n",
    "\n",
    "e = exp() \n",
    "e.add() \n",
    "e.add()\n",
    "e.view_expense()\n",
    "e.edit_expense(id=1, date='2025-03-01', amount=15.00, category='', description='') \n",
    "e.delete_expense(id=2) \n",
    "e.add()\n",
    "e.view_expense() \n",
    "e.generate_summary('2025-03-01')"
   ]
  },
  {
   "cell_type": "code",
   "execution_count": null,
   "id": "1ae6f559-e423-44f8-bf1a-d509f7f1dd3c",
   "metadata": {},
   "outputs": [],
   "source": []
  }
 ],
 "metadata": {
  "kernelspec": {
   "display_name": "Python [conda env:base] *",
   "language": "python",
   "name": "conda-base-py"
  },
  "language_info": {
   "codemirror_mode": {
    "name": "ipython",
    "version": 3
   },
   "file_extension": ".py",
   "mimetype": "text/x-python",
   "name": "python",
   "nbconvert_exporter": "python",
   "pygments_lexer": "ipython3",
   "version": "3.12.7"
  }
 },
 "nbformat": 4,
 "nbformat_minor": 5
}
